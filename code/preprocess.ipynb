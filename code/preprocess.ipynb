{
 "cells": [
  {
   "cell_type": "code",
   "execution_count": null,
   "metadata": {
    "metadata": {}
   },
   "outputs": [],
   "source": [
    "import os\n",
    "import numpy as np\n",
    "import pandas as pd\n",
    "import json"
   ]
  },
  {
   "cell_type": "code",
   "execution_count": null,
   "metadata": {
    "metadata": {}
   },
   "outputs": [],
   "source": [
    "inp_dir = \"../data/\""
   ]
  },
  {
   "cell_type": "code",
   "execution_count": null,
   "metadata": {
    "metadata": {}
   },
   "outputs": [],
   "source": [
    "capacity_df = pd.read_csv(os.path.join(inp_dir, \"Installed_Capacity_Germany.csv\"), sep=\";\", thousands='.', decimal=',', parse_dates=['Date from', 'Date to'])\n",
    "capacity_df = capacity_df[[\"Date from\", \"Wind Offshore [MW] \", \"Wind Onshore [MW]\", \"Photovoltaic [MW]\"]].rename({\"Wind Offshore [MW] \": \"Wind Offshore [MW]\"}, axis=1)\n",
    "capacity_df[\"Wind Total [MW]\"] = capacity_df[\"Wind Offshore [MW]\"] + capacity_df[\"Wind Onshore [MW]\"]\n",
    "capacity_df[\"Date from\"] = capacity_df[\"Date from\"].dt.strftime(\"%s\").astype(int)\n",
    "capacity_df.to_csv(os.path.join(inp_dir, \"Installed_Capacity_Germany_p.csv\"), index=False)"
   ]
  },
  {
   "cell_type": "code",
   "execution_count": null,
   "metadata": {
    "metadata": {}
   },
   "outputs": [],
   "source": [
    "supply_df = pd.read_csv(os.path.join(inp_dir, \"Realised_Supply_Germany.csv\"), sep=\";\", thousands='.', decimal=',', parse_dates=['Date from'])\n",
    "supply_df_ = supply_df.groupby(np.arange(len(supply_df))//4).mean(numeric_only=True)\n",
    "supply_df_[\"time\"] = supply_df.iloc[::4][\"Date from\"].dt.strftime(\"%s\").values.astype(int)\n",
    "supply_df_[\"Wind Total [MW]\"] = supply_df[\"Wind Offshore [MW] \"] + supply_df[\"Wind Onshore [MW]\"]\n",
    "supply_df_ = supply_df_[[\"time\", \"Wind Offshore [MW] \", \"Wind Onshore [MW]\", \"Wind Total [MW]\", \"Photovoltaic [MW]\"]].rename({\"Wind Offshore [MW] \": \"Wind Offshore [MW]\"}, axis=1)\n",
    "supply_df_.to_csv(os.path.join(inp_dir, \"Realised_Supply_Germany_p.csv\"), index=False)"
   ]
  },
  {
   "cell_type": "code",
   "execution_count": null,
   "metadata": {
    "metadata": {}
   },
   "outputs": [],
   "source": [
    "demand_df = pd.read_csv(os.path.join(inp_dir, \"Reaslised_Demand_Germany.csv\"), sep=\";\", thousands='.', decimal=',', parse_dates=['Date from'])\n",
    "demand_df_ = demand_df.groupby(np.arange(len(demand_df))//4).mean(numeric_only=True)\n",
    "demand_df_[\"time\"] = demand_df.iloc[::4][\"Date from\"].dt.strftime(\"%s\").values.astype(int)\n",
    "demand_df_ = demand_df_[[\"time\", \"Total (Grid Load) [MWh]\",\t\"Residual Load [MWh]\",\t\"Pumped Storage [MWh]\"]]\n",
    "demand_df_.to_csv(os.path.join(inp_dir, \"Realised_Demand_Germany_p.csv\"), index=False)"
   ]
  },
  {
   "cell_type": "code",
   "execution_count": null,
   "metadata": {},
   "outputs": [],
   "source": [
    "weather_df = pd.read_csv(os.path.join(inp_dir, \"Weather_Data_Germany.csv\"), sep=',', parse_dates=['forecast_origin', 'time'])\n",
    "weather_df[\"time\"] = weather_df[\"time\"].dt.strftime(\"%s\").values.astype(int)"
   ]
  },
  {
   "cell_type": "code",
   "execution_count": null,
   "metadata": {},
   "outputs": [],
   "source": [
    "24*(365*2+366)*len(weather_df[\"longitude\"].unique())*len(weather_df[\"latitude\"].unique()) == len(weather_df)"
   ]
  },
  {
   "cell_type": "code",
   "execution_count": null,
   "metadata": {},
   "outputs": [],
   "source": [
    "all_cols = [\"time\", \"longitude\", \"latitude\"]\n",
    "solar_cols = [\"cdir\", \"tcc\", \"t2m\", \"ssr\", \"tsr\", \"sund\", \"tp\"]\n",
    "wind_cols = [\"z\", \"msl\", \"u10\", \"v10\", \"u100\", \"v100\", \"t2m\", \"ssr\", \"blh\"]\n",
    "latitude_idx = {b:a for a,b in zip(range(len(weather_df[\"latitude\"].unique())), sorted(weather_df[\"latitude\"].unique().tolist()))}\n",
    "longitude_idx = {b:a for a,b in zip(range(len(weather_df[\"longitude\"].unique())), sorted(weather_df[\"longitude\"].unique().tolist()))}\n",
    "time_idx = {b:a for a,b in zip(range(len(weather_df[\"time\"].unique())), sorted(weather_df[\"time\"].unique().tolist()))}"
   ]
  },
  {
   "cell_type": "code",
   "execution_count": null,
   "metadata": {},
   "outputs": [],
   "source": [
    "solar_df = weather_df[all_cols + solar_cols]\n",
    "wind_df = weather_df[all_cols + wind_cols]"
   ]
  },
  {
   "cell_type": "code",
   "execution_count": 46,
   "metadata": {},
   "outputs": [],
   "source": [
    "def row_to_mat_wrap(mat, time_idx):\n",
    "    def row_to_mat(row):\n",
    "        mat[time_idx[row[0]], latitude_idx[row[2]], longitude_idx[row[1]], :] = row[3:]\n",
    "    return row_to_mat"
   ]
  },
  {
   "cell_type": "code",
   "execution_count": null,
   "metadata": {},
   "outputs": [],
   "source": [
    "solar_mat = np.empty((24*(365*2+366), len(latitude_idx), len(longitude_idx), len(solar_cols)))\n",
    "wind_mat = np.empty((24*(365*2+366), len(latitude_idx), len(longitude_idx), len(wind_cols)))"
   ]
  },
  {
   "cell_type": "code",
   "execution_count": null,
   "metadata": {},
   "outputs": [],
   "source": [
    "solar_df.apply(row_to_mat_wrap(solar_mat, time_idx), axis=1)\n",
    "wind_df.apply(row_to_mat_wrap(wind_mat, time_idx), axis=1)"
   ]
  },
  {
   "cell_type": "code",
   "execution_count": null,
   "metadata": {},
   "outputs": [],
   "source": [
    "np.save(os.path.join(inp_dir, \"solar.npy\"), solar_mat)\n",
    "np.save(os.path.join(inp_dir, \"wind.npy\"), wind_mat)\n",
    "with open(os.path.join(inp_dir, \"weather_meta.json\"), \"w\") as f:\n",
    "    json.dump({\"time\": time_idx, \"latitude\": latitude_idx, \"longitude\": longitude_idx}, f)"
   ]
  },
  {
   "cell_type": "code",
   "execution_count": null,
   "metadata": {},
   "outputs": [],
   "source": [
    "solar_df.to_csv(os.path.join(inp_dir, \"Solar.csv\"), index=False)\n",
    "wind_df.to_csv(os.path.join(inp_dir, \"Wind.csv\"), index=False)"
   ]
  },
  {
   "cell_type": "code",
   "execution_count": null,
   "metadata": {},
   "outputs": [],
   "source": [
    "weather_2022_df = pd.read_csv(os.path.join(inp_dir, \"Weather_Data_Germany_2022.csv\"), sep=',', parse_dates=['forecast_origin', 'time'])\n",
    "weather_2022_df[\"time\"] = weather_2022_df[\"time\"].dt.strftime(\"%s\").values.astype(int)"
   ]
  },
  {
   "cell_type": "code",
   "execution_count": null,
   "metadata": {},
   "outputs": [],
   "source": [
    "len(weather_2022_df) + 10*24*len(longitude_idx)*len(latitude_idx) == 365*24*len(longitude_idx)*len(latitude_idx)"
   ]
  },
  {
   "cell_type": "code",
   "execution_count": 40,
   "metadata": {},
   "outputs": [
    {
     "data": {
      "text/plain": [
       "True"
      ]
     },
     "execution_count": 40,
     "metadata": {},
     "output_type": "execute_result"
    }
   ],
   "source": [
    "solar_2022_df = weather_2022_df[all_cols + solar_cols]\n",
    "wind_2022_df = weather_2022_df[all_cols + wind_cols]\n",
    "\n",
    "latitude_2022_idx = {b:a for a,b in zip(range(len(weather_2022_df[\"latitude\"].unique())), sorted(weather_2022_df[\"latitude\"].unique().tolist()))}\n",
    "longitude_2022_idx = {b:a for a,b in zip(range(len(weather_2022_df[\"longitude\"].unique())), sorted(weather_2022_df[\"longitude\"].unique().tolist()))}\n",
    "time_2022_idx = {b:a for a,b in zip(range(len(weather_2022_df[\"time\"].unique())), sorted(weather_2022_df[\"time\"].unique().tolist()))}\n",
    "\n",
    "latitude_2022_idx == latitude_idx and longitude_2022_idx == longitude_idx"
   ]
  },
  {
   "cell_type": "code",
   "execution_count": 41,
   "metadata": {},
   "outputs": [],
   "source": [
    "solar_2022_mat = np.empty((24*(365-10+1), len(latitude_idx), len(longitude_idx), len(solar_cols)))\n",
    "wind_2022_mat = np.empty((24*(365-10+1), len(latitude_idx), len(longitude_idx), len(wind_cols)))"
   ]
  },
  {
   "cell_type": "code",
   "execution_count": 47,
   "metadata": {},
   "outputs": [
    {
     "data": {
      "text/plain": [
       "0         None\n",
       "1         None\n",
       "2         None\n",
       "3         None\n",
       "4         None\n",
       "          ... \n",
       "681595    None\n",
       "681596    None\n",
       "681597    None\n",
       "681598    None\n",
       "681599    None\n",
       "Length: 681600, dtype: object"
      ]
     },
     "execution_count": 47,
     "metadata": {},
     "output_type": "execute_result"
    }
   ],
   "source": [
    "solar_2022_df.apply(row_to_mat_wrap(solar_2022_mat, time_2022_idx), axis=1)\n",
    "wind_2022_df.apply(row_to_mat_wrap(wind_2022_mat, time_2022_idx), axis=1)"
   ]
  },
  {
   "cell_type": "code",
   "execution_count": 52,
   "metadata": {},
   "outputs": [],
   "source": [
    "np.save(os.path.join(inp_dir, \"solar_2022.npy\"), solar_2022_mat)\n",
    "np.save(os.path.join(inp_dir, \"wind_2022.npy\"), wind_2022_mat)\n",
    "with open(os.path.join(inp_dir, \"weather_meta_2022.json\"), \"w\") as f:\n",
    "    json.dump({\"time\": time_2022_idx, \"latitude\": latitude_2022_idx, \"longitude\": longitude_2022_idx}, f)"
   ]
  },
  {
   "cell_type": "code",
   "execution_count": 53,
   "metadata": {},
   "outputs": [],
   "source": [
    "solar_2022_df.to_csv(os.path.join(inp_dir, \"Solar_2022.csv\"), index=False)\n",
    "wind_2022_df.to_csv(os.path.join(inp_dir, \"Wind_2022.csv\"), index=False)"
   ]
  },
  {
   "cell_type": "code",
   "execution_count": null,
   "metadata": {},
   "outputs": [],
   "source": []
  }
 ],
 "metadata": {
  "kernelspec": {
   "display_name": "pytorch",
   "language": "python",
   "name": "python3"
  },
  "language_info": {
   "codemirror_mode": {
    "name": "ipython",
    "version": 3
   },
   "file_extension": ".py",
   "mimetype": "text/x-python",
   "name": "python",
   "nbconvert_exporter": "python",
   "pygments_lexer": "ipython3",
   "version": "3.10.4"
  }
 },
 "nbformat": 4,
 "nbformat_minor": 2
}
